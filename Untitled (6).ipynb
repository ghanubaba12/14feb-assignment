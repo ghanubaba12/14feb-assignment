{
 "cells": [
  {
   "cell_type": "code",
   "execution_count": null,
   "id": "6cfe829c-f93c-421c-98ce-7ebce98dfa8e",
   "metadata": {},
   "outputs": [],
   "source": [
    "\"\"\"(Q1).what is multithreading in python? hy is it used? Name the module used to handle threads in python"
   ]
  },
  {
   "cell_type": "code",
   "execution_count": null,
   "id": "09cab3f5-ee29-4a5c-bc81-7fdcd13bf096",
   "metadata": {},
   "outputs": [],
   "source": [
    "Multithreading in Python refers to the capability of a program to create and manage multiple threads of execution within a single process. A thread is a separate flow of execution that can run in parallel with other threads within the same program.\n",
    "\n",
    "Multithreading is used in Python to improve the performance of applications that require parallel processing or that perform I/O bound tasks such as downloading data, reading or writing to files, or making network requests. By allowing different threads to execute concurrently, a program can make more efficient use of available resources and complete tasks more quickly.\n",
    "\n",
    "The threading module is used to handle threads in Python. It provides a high-level interface for creating and managing threads, and includes functions for starting, stopping, and synchronizing threads. The threading module also provides features for managing locks, events, and semaphores, which can be used to coordinate the activities of different threads and avoid conflicts when accessing shared resources.\n",
    "\n",
    "\n",
    "\n"
   ]
  },
  {
   "cell_type": "code",
   "execution_count": null,
   "id": "a94e57fc-959d-45c5-a3f5-1b8839f9362c",
   "metadata": {},
   "outputs": [],
   "source": [
    "\"\"\"(Q2).  why threading module used? rite the use of the following functions\n",
    "( activeCount\n",
    " currentThread\n",
    " enumerate)"
   ]
  },
  {
   "cell_type": "code",
   "execution_count": null,
   "id": "aebe020c-4d20-4053-9501-1f2f1b423a07",
   "metadata": {},
   "outputs": [],
   "source": [
    "The threading module is used in Python for creating and managing threads of execution within a single process. This allows the program to perform multiple tasks concurrently and can lead to better performance and more responsive applications.\n",
    "\n",
    "Here are the uses of the following functions in the threading module:\n",
    "\n",
    "activeCount(): This function returns the number of active threads in the current process. It is useful for debugging and for monitoring the state of the program. For example, you can use it to make sure that all the expected threads have started and are running.\n",
    "\n",
    "currentThread(): This function returns a reference to the current thread object. You can use it to get information about the current thread, such as its name, ID, and state.\n",
    "\n",
    "enumerate(): This function returns a list of all the Thread objects that are currently active in the current process. It is useful for debugging and for monitoring the state of the program. For example, you can use it to print information about all the threads that are currently running.\n",
    "\n",
    "Here is an example of how these functions can be used:\n",
    "\n"
   ]
  },
  {
   "cell_type": "code",
   "execution_count": 1,
   "id": "f1e70633-9610-4706-9223-8a1473763f8f",
   "metadata": {},
   "outputs": [
    {
     "name": "stdout",
     "output_type": "stream",
     "text": [
      "Thread Thread-0 started\n",
      "Thread Thread-1 started\n",
      "Thread Thread-2 started\n",
      "Thread Thread-3 started\n",
      "Thread Thread-4 started\n",
      "Number of active threads: 8\n"
     ]
    },
    {
     "ename": "AttributeError",
     "evalue": "'_MainThread' object has no attribute 'state'",
     "output_type": "error",
     "traceback": [
      "\u001b[0;31m---------------------------------------------------------------------------\u001b[0m",
      "\u001b[0;31mAttributeError\u001b[0m                            Traceback (most recent call last)",
      "Cell \u001b[0;32mIn[1], line 14\u001b[0m\n\u001b[1;32m     12\u001b[0m \u001b[38;5;28mprint\u001b[39m(\u001b[38;5;124mf\u001b[39m\u001b[38;5;124m\"\u001b[39m\u001b[38;5;124mNumber of active threads: \u001b[39m\u001b[38;5;132;01m{\u001b[39;00mthreading\u001b[38;5;241m.\u001b[39mactive_count()\u001b[38;5;132;01m}\u001b[39;00m\u001b[38;5;124m\"\u001b[39m)\n\u001b[1;32m     13\u001b[0m \u001b[38;5;28;01mfor\u001b[39;00m t \u001b[38;5;129;01min\u001b[39;00m threading\u001b[38;5;241m.\u001b[39menumerate():\n\u001b[0;32m---> 14\u001b[0m     \u001b[38;5;28mprint\u001b[39m(\u001b[38;5;124mf\u001b[39m\u001b[38;5;124m\"\u001b[39m\u001b[38;5;124mThread name: \u001b[39m\u001b[38;5;132;01m{\u001b[39;00mt\u001b[38;5;241m.\u001b[39mname\u001b[38;5;132;01m}\u001b[39;00m\u001b[38;5;124m, Thread ID: \u001b[39m\u001b[38;5;132;01m{\u001b[39;00mt\u001b[38;5;241m.\u001b[39mident\u001b[38;5;132;01m}\u001b[39;00m\u001b[38;5;124m, Thread state: \u001b[39m\u001b[38;5;132;01m{\u001b[39;00m\u001b[43mt\u001b[49m\u001b[38;5;241;43m.\u001b[39;49m\u001b[43mstate\u001b[49m\u001b[38;5;132;01m}\u001b[39;00m\u001b[38;5;124m\"\u001b[39m)\n",
      "\u001b[0;31mAttributeError\u001b[0m: '_MainThread' object has no attribute 'state'"
     ]
    }
   ],
   "source": [
    "import threading\n",
    "\n",
    "def my_function():\n",
    "    print(f\"Thread {threading.current_thread().name} started\")\n",
    "\n",
    "threads = []\n",
    "for i in range(5):\n",
    "    t = threading.Thread(target=my_function, name=f\"Thread-{i}\")\n",
    "    threads.append(t)\n",
    "    t.start()\n",
    "\n",
    "print(f\"Number of active threads: {threading.active_count()}\")\n",
    "for t in threading.enumerate():\n",
    "    print(f\"Thread name: {t.name}, Thread ID: {t.ident}, Thread state: {t.state}\")\n"
   ]
  },
  {
   "cell_type": "code",
   "execution_count": null,
   "id": "c4456200-47de-4da0-bab6-cf212dc636ac",
   "metadata": {},
   "outputs": [],
   "source": [
    "In this example, we create five threads and start them. Then we use activeCount() to get the number of active threads and enumerate() to print information about all the threads that are currently running. Finally, we use currentThread() to print the name of the current thread when it starts."
   ]
  },
  {
   "cell_type": "code",
   "execution_count": null,
   "id": "df8b1067-3f16-4197-83f3-d0d9fc001072",
   "metadata": {},
   "outputs": [],
   "source": [
    "\"\"\"3. Explain the following functions\n",
    "( run\n",
    " start\n",
    " join\n",
    "' isAlive)"
   ]
  },
  {
   "cell_type": "code",
   "execution_count": null,
   "id": "ecca65a7-8258-46ad-8024-9bd8309e7bdb",
   "metadata": {},
   "outputs": [],
   "source": [
    "Here are the explanations of the following functions in the threading module:\n",
    "\n",
    "run(): This method is called when a thread is started using the start() method. It contains the code that will be executed in the new thread. You can define your own run() method by creating a subclass of the Thread class and overriding the run() method.\n",
    "\n",
    "start(): This method starts a new thread of execution for the Thread object. It calls the run() method in the new thread. If you want to create a new thread, you should first create a new Thread object, and then call its start() method.\n",
    "\n",
    "join(): This method blocks the current thread of execution until the thread associated with the Thread object has completed. If you call join() on a thread that has not been started, it will have no effect. This method is useful for coordinating the activities of different threads and ensuring that they complete in the correct order.\n",
    "\n",
    "isAlive(): This method returns True if the thread associated with the Thread object is currently running, and False otherwise. You can use this method to check the status of a thread and determine if it has completed or not.\n",
    "\n",
    "Here is an example of how these methods can be used:\n",
    "\n",
    "python\n"
   ]
  },
  {
   "cell_type": "code",
   "execution_count": 2,
   "id": "d9c6b449-fea2-45d4-8c2a-164152f8a9b4",
   "metadata": {},
   "outputs": [
    {
     "name": "stderr",
     "output_type": "stream",
     "text": [
      "/tmp/ipykernel_103/448884157.py:6: DeprecationWarning: getName() is deprecated, get the name attribute instead\n",
      "  print(f\"{self.getName()} started\")\n"
     ]
    },
    {
     "name": "stdout",
     "output_type": "stream",
     "text": [
      "Thread 1 started\n",
      "Thread 2 started\n",
      "Waiting for threads to finish...\n",
      "Thread 2 finished\n",
      "Thread 1 finished\n"
     ]
    },
    {
     "name": "stderr",
     "output_type": "stream",
     "text": [
      "/tmp/ipykernel_103/448884157.py:8: DeprecationWarning: getName() is deprecated, get the name attribute instead\n",
      "  print(f\"{self.getName()} finished\")\n"
     ]
    },
    {
     "ename": "AttributeError",
     "evalue": "'MyThread' object has no attribute 'isAlive'",
     "output_type": "error",
     "traceback": [
      "\u001b[0;31m---------------------------------------------------------------------------\u001b[0m",
      "\u001b[0;31mAttributeError\u001b[0m                            Traceback (most recent call last)",
      "Cell \u001b[0;32mIn[2], line 20\u001b[0m\n\u001b[1;32m     17\u001b[0m t1\u001b[38;5;241m.\u001b[39mjoin()\n\u001b[1;32m     18\u001b[0m t2\u001b[38;5;241m.\u001b[39mjoin()\n\u001b[0;32m---> 20\u001b[0m \u001b[38;5;28;01mif\u001b[39;00m \u001b[43mt1\u001b[49m\u001b[38;5;241;43m.\u001b[39;49m\u001b[43misAlive\u001b[49m():\n\u001b[1;32m     21\u001b[0m     \u001b[38;5;28mprint\u001b[39m(\u001b[38;5;124m\"\u001b[39m\u001b[38;5;124mThread 1 is still running\u001b[39m\u001b[38;5;124m\"\u001b[39m)\n\u001b[1;32m     22\u001b[0m \u001b[38;5;28;01melse\u001b[39;00m:\n",
      "\u001b[0;31mAttributeError\u001b[0m: 'MyThread' object has no attribute 'isAlive'"
     ]
    }
   ],
   "source": [
    "import threading\n",
    "import time\n",
    "\n",
    "class MyThread(threading.Thread):\n",
    "    def run(self):\n",
    "        print(f\"{self.getName()} started\")\n",
    "        time.sleep(2)\n",
    "        print(f\"{self.getName()} finished\")\n",
    "\n",
    "t1 = MyThread(name=\"Thread 1\")\n",
    "t2 = MyThread(name=\"Thread 2\")\n",
    "\n",
    "t1.start()\n",
    "t2.start()\n",
    "\n",
    "print(\"Waiting for threads to finish...\")\n",
    "t1.join()\n",
    "t2.join()\n",
    "\n",
    "if t1.isAlive():\n",
    "    print(\"Thread 1 is still running\")\n",
    "else:\n",
    "    print(\"Thread 1 has completed\")\n",
    "\n",
    "if t2.isAlive():\n",
    "    print(\"Thread 2 is still running\")\n",
    "else:\n",
    "    print(\"Thread 2 has completed\")\n"
   ]
  },
  {
   "cell_type": "code",
   "execution_count": null,
   "id": "a0126d93-47f5-4eff-b05a-0f5c56ab89ae",
   "metadata": {},
   "outputs": [],
   "source": [
    "In this example, we define a subclass of Thread called MyThread. We override the run() method to print a message when the thread starts and finishes, and to sleep for 2 seconds in between. We then create two MyThread objects, start them, and wait for them to complete using join(). Finally, we use isAlive() to check the status of the threads and print a message indicating whether they have completed or not."
   ]
  },
  {
   "cell_type": "code",
   "execution_count": null,
   "id": "9e506e89-60e7-47b1-aff4-b66f2b1bdb61",
   "metadata": {},
   "outputs": [],
   "source": [
    "\"\"\"4. write a python program to create two threads. Thread one must print the list of squares and thread\n",
    "two must print the list of cubes"
   ]
  },
  {
   "cell_type": "code",
   "execution_count": null,
   "id": "d73a7ffa-430a-4a3f-adcc-9ab5a35f06f7",
   "metadata": {},
   "outputs": [],
   "source": [
    "Here is a Python program that creates two threads. Thread one prints the list of squares and thread two prints the list of cubes:"
   ]
  },
  {
   "cell_type": "code",
   "execution_count": 3,
   "id": "971fc9d5-6d2d-4d99-a4cd-fe68e3364d38",
   "metadata": {},
   "outputs": [
    {
     "name": "stdout",
     "output_type": "stream",
     "text": [
      "Square of 1 is 1\n",
      "Square of 2 is 4\n",
      "Square of 3 is 9\n",
      "Square of 4 is 16\n",
      "Square of 5 is 25\n",
      "Square of 6 is 36\n",
      "Square of 7 is 49\n",
      "Square of 8 is 64\n",
      "Square of 9 is 81\n",
      "Square of 10 is 100\n",
      "Cube of 1 is 1\n",
      "Cube of 2 is 8\n",
      "Cube of 3 is 27\n",
      "Cube of 4 is 64\n",
      "Cube of 5 is 125\n",
      "Cube of 6 is 216\n",
      "Cube of 7 is 343\n",
      "Cube of 8 is 512\n",
      "Cube of 9 is 729\n",
      "Cube of 10 is 1000\n",
      "Finished\n"
     ]
    }
   ],
   "source": [
    "import threading\n",
    "\n",
    "def print_squares():\n",
    "    for i in range(1, 11):\n",
    "        print(f\"Square of {i} is {i**2}\")\n",
    "\n",
    "def print_cubes():\n",
    "    for i in range(1, 11):\n",
    "        print(f\"Cube of {i} is {i**3}\")\n",
    "\n",
    "t1 = threading.Thread(target=print_squares)\n",
    "t2 = threading.Thread(target=print_cubes)\n",
    "\n",
    "t1.start()\n",
    "t2.start()\n",
    "\n",
    "t1.join()\n",
    "t2.join()\n",
    "\n",
    "print(\"Finished\")\n"
   ]
  },
  {
   "cell_type": "code",
   "execution_count": null,
   "id": "0ba08c7f-7cca-4565-9be0-f280af543391",
   "metadata": {},
   "outputs": [],
   "source": [
    "In this program, we define two functions, print_squares() and print_cubes(), which print the squares and cubes of the numbers from 1 to 10, respectively. We then create two Thread objects, t1 and t2, and pass the functions as targets to the threads. We start both threads using the start() method, and then wait for them to complete using the join() method. Finally, we print \"Finished\" to indicate that the program has completed.\n",
    "\n",
    "When you run this program, you will see the squares and cubes of the numbers from 1 to 10 printed in an interleaved fashion, as the two threads execute concurrently."
   ]
  },
  {
   "cell_type": "code",
   "execution_count": null,
   "id": "a0d9e2b3-2c86-4831-9839-9c77addfb8d4",
   "metadata": {},
   "outputs": [],
   "source": [
    "\"\"\"(5.) State advantages and disadvantages of multithreading"
   ]
  },
  {
   "cell_type": "code",
   "execution_count": null,
   "id": "213d7fa6-fc62-4773-aee9-96b1defa74fe",
   "metadata": {},
   "outputs": [],
   "source": [
    "Multithreading is a programming technique that enables concurrent execution of multiple threads within a single process. Here are some advantages and disadvantages of multithreading:\n",
    "\n",
    "Advantages:\n",
    "\n",
    "Improved performance: Multithreading can improve the overall performance of an application by allowing multiple tasks to be executed simultaneously, thereby utilizing the available resources more efficiently.\n",
    "\n",
    "Responsiveness: Multithreading can improve the responsiveness of an application by allowing it to continue processing user input while performing time-consuming tasks in the background.\n",
    "\n",
    "Resource sharing: Threads can share resources such as memory, files, and network connections, which can reduce the overall memory footprint and improve the efficiency of the application.\n",
    "\n",
    "Simplified programming: Multithreading can simplify programming by allowing complex tasks to be broken down into smaller, more manageable units that can be executed concurrently.\n",
    "\n",
    "Disadvantages:\n",
    "\n",
    "Synchronization: Synchronization is required when multiple threads access shared resources simultaneously. Synchronization can be complex, and improper synchronization can lead to problems such as deadlocks, livelocks, and race conditions.\n",
    "\n",
    "Increased complexity: Multithreading can add complexity to an application, making it harder to debug and maintain. Coordination of multiple threads can also be difficult, and debugging errors can be challenging.\n",
    "\n",
    "Overhead: Multithreading can create additional overhead, such as the overhead associated with thread creation, context switching, and synchronization.\n",
    "\n",
    "Resource consumption: Multithreading can consume more resources than single-threaded applications, which can be a concern for applications running on resource-constrained systems.\n",
    "\n",
    "In summary, multithreading can offer significant benefits in terms of performance and responsiveness, but it also introduces complexity, synchronization issues, and resource overheads that need to be carefully managed.\n",
    "\n",
    "\n",
    "\n"
   ]
  },
  {
   "cell_type": "code",
   "execution_count": null,
   "id": "4f02d32d-bbc3-4ea6-b026-25364d318fe5",
   "metadata": {},
   "outputs": [],
   "source": [
    "6. Explain deadlocks and race conditions."
   ]
  },
  {
   "cell_type": "code",
   "execution_count": null,
   "id": "9fd1a3a3-8981-4b0b-b4a8-90334dcdc2e1",
   "metadata": {},
   "outputs": [],
   "source": []
  },
  {
   "cell_type": "code",
   "execution_count": null,
   "id": "69615898-4e91-4174-a15a-601cff88864d",
   "metadata": {},
   "outputs": [],
   "source": []
  },
  {
   "cell_type": "code",
   "execution_count": null,
   "id": "c69ce0c4-667b-431b-88f5-e93d2979e888",
   "metadata": {},
   "outputs": [],
   "source": []
  },
  {
   "cell_type": "code",
   "execution_count": null,
   "id": "bb0dee30-3eb3-42fe-b017-da4c5124b54f",
   "metadata": {},
   "outputs": [],
   "source": []
  },
  {
   "cell_type": "code",
   "execution_count": null,
   "id": "3f3c6d6f-cb04-4561-a718-0ec8cccc220a",
   "metadata": {},
   "outputs": [],
   "source": []
  },
  {
   "cell_type": "code",
   "execution_count": null,
   "id": "2024aaa4-610e-424c-b72a-db566347a42b",
   "metadata": {},
   "outputs": [],
   "source": []
  }
 ],
 "metadata": {
  "kernelspec": {
   "display_name": "Python 3 (ipykernel)",
   "language": "python",
   "name": "python3"
  },
  "language_info": {
   "codemirror_mode": {
    "name": "ipython",
    "version": 3
   },
   "file_extension": ".py",
   "mimetype": "text/x-python",
   "name": "python",
   "nbconvert_exporter": "python",
   "pygments_lexer": "ipython3",
   "version": "3.10.8"
  }
 },
 "nbformat": 4,
 "nbformat_minor": 5
}
